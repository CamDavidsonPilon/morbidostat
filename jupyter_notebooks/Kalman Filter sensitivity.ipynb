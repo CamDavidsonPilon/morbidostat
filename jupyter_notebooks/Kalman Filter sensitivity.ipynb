{
 "cells": [
  {
   "cell_type": "code",
   "execution_count": 37,
   "metadata": {},
   "outputs": [],
   "source": [
    "from sympy import *\n",
    "r_, D_, q1, q2, q3, n1, p1_, p2_, p3_, z = symbols('r_{k} D_{k} q_1 q_2 q_3 n p_{1|k} p_{2|k} p_{3|k} z')\n",
    "\n",
    "\n",
    "H = Matrix([[1, 0]])\n",
    "F = Matrix([[r_, D_], [0, 1]])\n",
    "Q = Matrix([[q1, 0], [0, q3]])\n",
    "N = Matrix([[n1]])\n",
    "P_ = Matrix([[p1_, p2_], [p2_, p3_]])\n",
    "\n",
    "P = (F * P_) * F.T + Q\n",
    "X = Matrix([[D_*r_, r_]])\n",
    "\n",
    "y = z - X[0]\n",
    "S = (H * P) * H.T + N\n",
    "K = (P * H.T) * S ** (-1)\n",
    "_X = X + (K * y).T\n",
    "_P = (eye(2) - K * H) * P\n"
   ]
  },
  {
   "cell_type": "code",
   "execution_count": 46,
   "metadata": {},
   "outputs": [
    {
     "data": {
      "text/latex": [
       "$\\displaystyle D_{k} r_{k} + \\frac{\\left(- D_{k} r_{k} + z\\right) \\left(D_{k} \\left(D_{k} p_{3|k} + p_{2|k} r_{k}\\right) + q_{1} + r_{k} \\left(D_{k} p_{2|k} + p_{1|k} r_{k}\\right)\\right)}{D_{k} \\left(D_{k} p_{3|k} + p_{2|k} r_{k}\\right) + n + q_{1} + r_{k} \\left(D_{k} p_{2|k} + p_{1|k} r_{k}\\right)}$"
      ],
      "text/plain": [
       "D_{k}*r_{k} + (-D_{k}*r_{k} + z)*(D_{k}*(D_{k}*p_{3|k} + p_{2|k}*r_{k}) + q_1 + r_{k}*(D_{k}*p_{2|k} + p_{1|k}*r_{k}))/(D_{k}*(D_{k}*p_{3|k} + p_{2|k}*r_{k}) + n + q_1 + r_{k}*(D_{k}*p_{2|k} + p_{1|k}*r_{k}))"
      ]
     },
     "execution_count": 46,
     "metadata": {},
     "output_type": "execute_result"
    }
   ],
   "source": [
    "_X[0]"
   ]
  },
  {
   "cell_type": "code",
   "execution_count": 43,
   "metadata": {},
   "outputs": [
    {
     "data": {
      "text/latex": [
       "$\\displaystyle p_{3|k} + q_{3} - \\frac{\\left(D_{k} p_{3|k} + p_{2|k} r_{k}\\right)^{2}}{D_{k} \\left(D_{k} p_{3|k} + p_{2|k} r_{k}\\right) + n + q_{1} + r_{k} \\left(D_{k} p_{2|k} + p_{1|k} r_{k}\\right)}$"
      ],
      "text/plain": [
       "p_{3|k} + q_3 - (D_{k}*p_{3|k} + p_{2|k}*r_{k})**2/(D_{k}*(D_{k}*p_{3|k} + p_{2|k}*r_{k}) + n + q_1 + r_{k}*(D_{k}*p_{2|k} + p_{1|k}*r_{k}))"
      ]
     },
     "execution_count": 43,
     "metadata": {},
     "output_type": "execute_result"
    }
   ],
   "source": [
    "_P[1, 1]"
   ]
  },
  {
   "cell_type": "code",
   "execution_count": 42,
   "metadata": {},
   "outputs": [
    {
     "data": {
      "text/latex": [
       "$\\displaystyle \\left[\\begin{matrix}D_{k} \\left(D_{k} p_{3|k} + p_{2|k} r_{k}\\right) + q_{1} + r_{k} \\left(D_{k} p_{2|k} + p_{1|k} r_{k}\\right) & D_{k} p_{3|k} + p_{2|k} r_{k}\\\\D_{k} p_{3|k} + p_{2|k} r_{k} & p_{3|k} + q_{3}\\end{matrix}\\right]$"
      ],
      "text/plain": [
       "Matrix([\n",
       "[D_{k}*(D_{k}*p_{3|k} + p_{2|k}*r_{k}) + q_1 + r_{k}*(D_{k}*p_{2|k} + p_{1|k}*r_{k}), D_{k}*p_{3|k} + p_{2|k}*r_{k}],\n",
       "[                                                      D_{k}*p_{3|k} + p_{2|k}*r_{k},                 p_{3|k} + q_3]])"
      ]
     },
     "execution_count": 42,
     "metadata": {},
     "output_type": "execute_result"
    }
   ],
   "source": [
    "P"
   ]
  },
  {
   "cell_type": "code",
   "execution_count": 44,
   "metadata": {},
   "outputs": [
    {
     "data": {
      "text/latex": [
       "$\\displaystyle \\left[\\begin{matrix}\\frac{D_{k} \\left(D_{k} p_{3|k} + p_{2|k} r_{k}\\right) + q_{1} + r_{k} \\left(D_{k} p_{2|k} + p_{1|k} r_{k}\\right)}{D_{k} \\left(D_{k} p_{3|k} + p_{2|k} r_{k}\\right) + n + q_{1} + r_{k} \\left(D_{k} p_{2|k} + p_{1|k} r_{k}\\right)}\\\\\\frac{D_{k} p_{3|k} + p_{2|k} r_{k}}{D_{k} \\left(D_{k} p_{3|k} + p_{2|k} r_{k}\\right) + n + q_{1} + r_{k} \\left(D_{k} p_{2|k} + p_{1|k} r_{k}\\right)}\\end{matrix}\\right]$"
      ],
      "text/plain": [
       "Matrix([\n",
       "[(D_{k}*(D_{k}*p_{3|k} + p_{2|k}*r_{k}) + q_1 + r_{k}*(D_{k}*p_{2|k} + p_{1|k}*r_{k}))/(D_{k}*(D_{k}*p_{3|k} + p_{2|k}*r_{k}) + n + q_1 + r_{k}*(D_{k}*p_{2|k} + p_{1|k}*r_{k}))],\n",
       "[                                                      (D_{k}*p_{3|k} + p_{2|k}*r_{k})/(D_{k}*(D_{k}*p_{3|k} + p_{2|k}*r_{k}) + n + q_1 + r_{k}*(D_{k}*p_{2|k} + p_{1|k}*r_{k}))]])"
      ]
     },
     "execution_count": 44,
     "metadata": {},
     "output_type": "execute_result"
    }
   ],
   "source": [
    "K"
   ]
  },
  {
   "cell_type": "code",
   "execution_count": null,
   "metadata": {},
   "outputs": [],
   "source": []
  }
 ],
 "metadata": {
  "kernelspec": {
   "display_name": "Python 3",
   "language": "python",
   "name": "python3"
  },
  "language_info": {
   "codemirror_mode": {
    "name": "ipython",
    "version": 3
   },
   "file_extension": ".py",
   "mimetype": "text/x-python",
   "name": "python",
   "nbconvert_exporter": "python",
   "pygments_lexer": "ipython3",
   "version": "3.8.5"
  }
 },
 "nbformat": 4,
 "nbformat_minor": 4
}
