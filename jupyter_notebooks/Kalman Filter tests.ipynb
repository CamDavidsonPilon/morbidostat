{
 "cells": [
  {
   "cell_type": "code",
   "execution_count": 314,
   "metadata": {},
   "outputs": [
    {
     "name": "stdout",
     "output_type": "stream",
     "text": [
      "\u001b(B\u001b[m"
     ]
    }
   ],
   "source": [
    "!mv /Users/camerondavidson-pilon/Downloads/*.dump.gz .."
   ]
  },
  {
   "cell_type": "code",
   "execution_count": 315,
   "metadata": {},
   "outputs": [
    {
     "name": "stdout",
     "output_type": "stream",
     "text": [
      "\u001b(B\u001b[m"
     ]
    }
   ],
   "source": [
    "!gzip -f -d ../*.dump.gz"
   ]
  },
  {
   "cell_type": "code",
   "execution_count": 316,
   "metadata": {},
   "outputs": [
    {
     "name": "stdout",
     "output_type": "stream",
     "text": [
      "\u001b(B\u001b[m\u001b(B\u001b[m\u001b(B\u001b[m"
     ]
    }
   ],
   "source": [
    "!rm ../morbidostat.db\n",
    "!sqlite3 ../morbidostat.db < ../od_readings_raw.dump\n",
    "!sqlite3 ../morbidostat.db < ../io_events.dump"
   ]
  },
  {
   "cell_type": "code",
   "execution_count": 341,
   "metadata": {},
   "outputs": [],
   "source": [
    "import pandas as pd\n",
    "import sqlite3\n",
    "con = sqlite3.connect(\"../morbidostat.db\")\n",
    "experiment = \"Trial-6-fc25fd2e44af4255bcb61d4f574f0087\"\n",
    "unit = 1\n",
    "df = pd.read_sql_query(f'SELECT * from od_readings_raw WHERE experiment=\"{experiment}\" and morbidostat_unit=\"{unit}\"', con)\n",
    "io_events = pd.read_sql_query(f'SELECT * from io_events WHERE experiment=\"{experiment}\" and morbidostat_unit=\"{unit}\"', con)"
   ]
  },
  {
   "cell_type": "code",
   "execution_count": 342,
   "metadata": {},
   "outputs": [],
   "source": [
    "df['timestamp'] = pd.to_datetime(df['timestamp'])\n",
    "df = df.set_index(\"timestamp\")\n",
    "\n",
    "io_events['timestamp'] = pd.to_datetime(io_events['timestamp'])\n",
    "io_events = io_events.set_index(\"timestamp\")\n"
   ]
  },
  {
   "cell_type": "code",
   "execution_count": 343,
   "metadata": {},
   "outputs": [],
   "source": [
    "#df = df.loc[\"2020-09-18 9:00:00\":]"
   ]
  },
  {
   "cell_type": "code",
   "execution_count": 344,
   "metadata": {},
   "outputs": [
    {
     "data": {
      "text/html": [
       "<div>\n",
       "<style scoped>\n",
       "    .dataframe tbody tr th:only-of-type {\n",
       "        vertical-align: middle;\n",
       "    }\n",
       "\n",
       "    .dataframe tbody tr th {\n",
       "        vertical-align: top;\n",
       "    }\n",
       "\n",
       "    .dataframe thead th {\n",
       "        text-align: right;\n",
       "    }\n",
       "</style>\n",
       "<table border=\"1\" class=\"dataframe\">\n",
       "  <thead>\n",
       "    <tr style=\"text-align: right;\">\n",
       "      <th></th>\n",
       "      <th>experiment</th>\n",
       "      <th>event</th>\n",
       "      <th>volume_change_ml</th>\n",
       "      <th>morbidostat_unit</th>\n",
       "    </tr>\n",
       "    <tr>\n",
       "      <th>timestamp</th>\n",
       "      <th></th>\n",
       "      <th></th>\n",
       "      <th></th>\n",
       "      <th></th>\n",
       "    </tr>\n",
       "  </thead>\n",
       "  <tbody>\n",
       "  </tbody>\n",
       "</table>\n",
       "</div>"
      ],
      "text/plain": [
       "Empty DataFrame\n",
       "Columns: [experiment, event, volume_change_ml, morbidostat_unit]\n",
       "Index: []"
      ]
     },
     "execution_count": 344,
     "metadata": {},
     "output_type": "execute_result"
    }
   ],
   "source": [
    "io_events"
   ]
  },
  {
   "cell_type": "code",
   "execution_count": 345,
   "metadata": {},
   "outputs": [
    {
     "data": {
      "image/png": "[encoded data removed]",
      "text/plain": [
       "<Figure size 432x288 with 1 Axes>"
      ]
     },
     "metadata": {
      "needs_background": "light"
     },
     "output_type": "display_data"
    },
    {
     "data": {
      "image/png": "[encoded data removed]",
      "text/plain": [
       "<Figure size 432x288 with 1 Axes>"
      ]
     },
     "metadata": {
      "needs_background": "light"
     },
     "output_type": "display_data"
    }
   ],
   "source": [
    "for _, g in df.loc[\"2020-09-18 9:00:00\":].groupby(\"angle\")['od_reading_v']:\n",
    "    plt.figure()\n",
    "    g.plot()"
   ]
  },
  {
   "cell_type": "code",
   "execution_count": 346,
   "metadata": {},
   "outputs": [],
   "source": [
    "df.index = df.index.round('S')"
   ]
  },
  {
   "cell_type": "code",
   "execution_count": 347,
   "metadata": {},
   "outputs": [],
   "source": [
    "df_ = df.loc[df.groupby(level=0).size() == 2]"
   ]
  },
  {
   "cell_type": "code",
   "execution_count": null,
   "metadata": {},
   "outputs": [],
   "source": []
  },
  {
   "cell_type": "code",
   "execution_count": 348,
   "metadata": {},
   "outputs": [],
   "source": [
    "class ExtendedKalmanFilter:\n",
    "    \"\"\"\n",
    "    Based on the algorithm in\n",
    "    https://journals.plos.org/plosone/article?id=10.1371/journal.pone.0181923#pone.0181923.s007\n",
    "\n",
    "    The idea is that each sensor will evolve like:\n",
    "\n",
    "    OD_{i, t+1} = OD_{i, t} * r_t\n",
    "\n",
    "    for all i, t.\n",
    "\n",
    "    This model is pretty naive (different sensors will behave / saturate differently).\n",
    "\n",
    "    Example\n",
    "    ---------\n",
    "\n",
    "        initial_state = np.array([obs.iloc[0], 1.])\n",
    "        initial_covariance = np.eye(2)\n",
    "        process_noise_covariance = np.array([[0.00001, 0], [0, 1e-13]])\n",
    "        observation_noise_covariance = 0.2\n",
    "        ekf = ExtendedKalmanFilter(initial_state, initial_covariance, process_noise_covariance, observation_noise_covariance)\n",
    "\n",
    "        ekf.update(...)\n",
    "        ekf.state_\n",
    "\n",
    "    \"\"\"\n",
    "\n",
    "    def __init__(\n",
    "        self, initial_state, initial_covariance, process_noise_covariance, observation_noise_covariance,\n",
    "    ):\n",
    "        assert initial_state.shape[0] == initial_covariance.shape[0] == initial_covariance.shape[1]\n",
    "        assert process_noise_covariance.shape == initial_covariance.shape\n",
    "\n",
    "        self._process_noise_covariance = process_noise_covariance\n",
    "        self.observation_noise_covariance = observation_noise_covariance\n",
    "        self.state_ = initial_state\n",
    "        self.covariance_ = initial_covariance\n",
    "        self.dim = self.state_.shape[0]\n",
    "\n",
    "        self._counter = -1\n",
    "        self._original_process_noise_variance = np.diag(self._process_noise_covariance)[:(self.dim-1)].copy()\n",
    "\n",
    "    def predict(self):\n",
    "        return (\n",
    "            self._predict_state(self.state_, self.covariance_),\n",
    "            self._predict_covariance(self.state_, self.covariance_),\n",
    "        )\n",
    "\n",
    "    def update(self, observation):\n",
    "        # TODO: incorporate delta_time\n",
    "        state_prediction, covariance_prediction = self.predict()\n",
    "        residual_state = observation - state_prediction[:-1]\n",
    "        H = self._jacobian_observation()\n",
    "        residual_covariance = H @ covariance_prediction @ H.T + self.observation_noise_covariance\n",
    "        kalman_gain = covariance_prediction @ H.T @ np.linalg.inv(residual_covariance)\n",
    "        self.state_ = state_prediction + kalman_gain @ residual_state\n",
    "        self.covariance_ = (np.eye(self.dim) - kalman_gain @ H) @ covariance_prediction\n",
    "        return\n",
    "\n",
    "    def scale_OD_variance_for_next_n_steps(self, factor, n):\n",
    "        d = self.dim\n",
    "        self._counter = n\n",
    "        self._process_noise_covariance[np.arange(d - 1), np.arange(d - 1)] = factor * self._original_process_noise_variance\n",
    "\n",
    "    def process_noise_covariance(self):\n",
    "        if self._counter == 0:\n",
    "            d = self.dim\n",
    "            self._process_noise_covariance[\n",
    "                np.arange(d - 1), np.arange(d - 1)\n",
    "            ] = self._original_process_noise_variance\n",
    "        self._counter -= 1\n",
    "        return self._process_noise_covariance\n",
    "\n",
    "    def _predict_state(self, state, covariance):\n",
    "        return np.array([v * state[-1] for v in state[:-1]] + [state[-1]])\n",
    "\n",
    "    def _predict_covariance(self, state, covariance):\n",
    "        return (\n",
    "            self._jacobian_process(state) @ covariance @ self._jacobian_process(state).T\n",
    "            + self.process_noise_covariance()\n",
    "        )\n",
    "\n",
    "    def _jacobian_process(self, state):\n",
    "        \"\"\"\n",
    "        The prediction process is\n",
    "        [\n",
    "            OD_{1, t+1} = OD_{1, t} * r_t\n",
    "            OD_{2, t+1} = OD_{2, t} * r_t\n",
    "            ...\n",
    "            r_{t+1} = r_t\n",
    "\n",
    "        ]\n",
    "\n",
    "        \"\"\"\n",
    "        d = self.dim\n",
    "        J = np.zeros((d, d))\n",
    "\n",
    "        rate = state[-1]\n",
    "        ODs = state[:-1]\n",
    "\n",
    "        J[np.arange(d - 1), np.arange(d - 1)] = rate\n",
    "        J[np.arange(d - 1), np.arange(1, d)] = ODs\n",
    "        J[-1, -1] = 1.0\n",
    "\n",
    "        return J\n",
    "\n",
    "    def _jacobian_observation(self):\n",
    "        \"\"\"\n",
    "        We only observe the ODs\n",
    "        \"\"\"\n",
    "        d = self.dim\n",
    "        return np.eye(d)[: (d - 1)]"
   ]
  },
  {
   "cell_type": "code",
   "execution_count": null,
   "metadata": {},
   "outputs": [],
   "source": []
  },
  {
   "cell_type": "code",
   "execution_count": 349,
   "metadata": {},
   "outputs": [
    {
     "data": {
      "text/html": [
       "<div>\n",
       "<style scoped>\n",
       "    .dataframe tbody tr th:only-of-type {\n",
       "        vertical-align: middle;\n",
       "    }\n",
       "\n",
       "    .dataframe tbody tr th {\n",
       "        vertical-align: top;\n",
       "    }\n",
       "\n",
       "    .dataframe thead th {\n",
       "        text-align: right;\n",
       "    }\n",
       "</style>\n",
       "<table border=\"1\" class=\"dataframe\">\n",
       "  <thead>\n",
       "    <tr style=\"text-align: right;\">\n",
       "      <th></th>\n",
       "      <th>morbidostat_unit</th>\n",
       "      <th>od_reading_v</th>\n",
       "      <th>experiment</th>\n",
       "      <th>angle</th>\n",
       "    </tr>\n",
       "    <tr>\n",
       "      <th>timestamp</th>\n",
       "      <th></th>\n",
       "      <th></th>\n",
       "      <th></th>\n",
       "      <th></th>\n",
       "    </tr>\n",
       "  </thead>\n",
       "  <tbody>\n",
       "    <tr>\n",
       "      <th>2020-09-16 18:08:57+00:00</th>\n",
       "      <td>1</td>\n",
       "      <td>0.217007</td>\n",
       "      <td>Trial-6-fc25fd2e44af4255bcb61d4f574f0087</td>\n",
       "      <td>135</td>\n",
       "    </tr>\n",
       "    <tr>\n",
       "      <th>2020-09-16 18:08:57+00:00</th>\n",
       "      <td>1</td>\n",
       "      <td>0.043751</td>\n",
       "      <td>Trial-6-fc25fd2e44af4255bcb61d4f574f0087</td>\n",
       "      <td>90</td>\n",
       "    </tr>\n",
       "  </tbody>\n",
       "</table>\n",
       "</div>"
      ],
      "text/plain": [
       "                          morbidostat_unit  od_reading_v  \\\n",
       "timestamp                                                  \n",
       "2020-09-16 18:08:57+00:00                1      0.217007   \n",
       "2020-09-16 18:08:57+00:00                1      0.043751   \n",
       "\n",
       "                                                         experiment  angle  \n",
       "timestamp                                                                   \n",
       "2020-09-16 18:08:57+00:00  Trial-6-fc25fd2e44af4255bcb61d4f574f0087    135  \n",
       "2020-09-16 18:08:57+00:00  Trial-6-fc25fd2e44af4255bcb61d4f574f0087     90  "
      ]
     },
     "execution_count": 349,
     "metadata": {},
     "output_type": "execute_result"
    }
   ],
   "source": [
    "df_.head(2)"
   ]
  },
  {
   "cell_type": "code",
   "execution_count": 350,
   "metadata": {},
   "outputs": [],
   "source": [
    "initial_state = np.array([0.020001, 0.406007, 1.])\n",
    "d = initial_state.shape[0]\n",
    "\n",
    "# empirically picked constants\n",
    "initial_covariance = np.diag([1e-3] * (d - 1) + [1e-8])\n",
    "\n",
    "OD_covariance = 1e-10 * np.ones((d-1, d-1))\n",
    "OD_covariance[0, 0] = 1e-7\n",
    "OD_covariance[1, 1] = 1e-5\n",
    "process_noise_covariance = np.block([\n",
    "    [OD_covariance,  1e-12 * np.ones((d-1, 1))],\n",
    "    [1e-12* np.ones((1, d-1)),  1e-15 ]\n",
    "])\n",
    "\n",
    "observation_noise_covariance = 1e-4 * np.ones(d-1) # this is a function of the ADS resolution at a gain\n",
    "ekf = ExtendedKalmanFilter(\n",
    "    initial_state, initial_covariance, process_noise_covariance, observation_noise_covariance,\n",
    ")"
   ]
  },
  {
   "cell_type": "code",
   "execution_count": 351,
   "metadata": {},
   "outputs": [],
   "source": [
    "results = []\n",
    "try:\n",
    "    obs_and_io = df_.merge(io_events, how=\"outer\", right_index=True, left_index=True).sort_index()\n",
    "except:\n",
    "    obs_and_io = df_\n",
    "\n",
    "for _, g in obs_and_io.groupby(level=0):\n",
    "    if g.shape[0] == 1:\n",
    "        ekf.scale_OD_variance_for_next_n_steps(10, 96)\n",
    "    elif g.shape[0] == 2:\n",
    "        ekf.update(g.sort_values(\"angle\")['od_reading_v'].values)\n",
    "        results.append(ekf.state_)\n",
    "    else:\n",
    "        pass\n",
    "        \n",
    "results = pd.DataFrame(results, columns=['90', '135',  'rate'])"
   ]
  },
  {
   "cell_type": "code",
   "execution_count": 352,
   "metadata": {},
   "outputs": [
    {
     "data": {
      "image/png": "[encoded data removed]",
      "text/plain": [
       "<Figure size 432x288 with 1 Axes>"
      ]
     },
     "metadata": {
      "needs_background": "light"
     },
     "output_type": "display_data"
    },
    {
     "data": {
      "image/png": "[encoded data removed]",
      "text/plain": [
       "<Figure size 432x288 with 1 Axes>"
      ]
     },
     "metadata": {
      "needs_background": "light"
     },
     "output_type": "display_data"
    },
    {
     "data": {
      "image/png": "[encoded data removed]",
      "text/plain": [
       "<Figure size 432x288 with 1 Axes>"
      ]
     },
     "metadata": {
      "needs_background": "light"
     },
     "output_type": "display_data"
    }
   ],
   "source": [
    "plt.figure()\n",
    "ax = results['90'].plot(label=\"filtered\")\n",
    "plt.plot(df_.loc[df_['angle'] == 90]['od_reading_v'].values, alpha=0.5, label=\"actual\")\n",
    "plt.legend()\n",
    "\n",
    "plt.figure()\n",
    "\n",
    "ax = results['135'].plot(label=\"filtered\")\n",
    "plt.plot(df_.loc[df_['angle'] == 135]['od_reading_v'].values, alpha=0.5, label=\"actual\")\n",
    "plt.legend()\n",
    "\n",
    "plt.figure()\n",
    "ax = (np.log(results['rate'])*60*60*0.2).plot()\n"
   ]
  },
  {
   "cell_type": "code",
   "execution_count": null,
   "metadata": {},
   "outputs": [],
   "source": []
  },
  {
   "cell_type": "code",
   "execution_count": null,
   "metadata": {},
   "outputs": [],
   "source": []
  },
  {
   "cell_type": "code",
   "execution_count": null,
   "metadata": {},
   "outputs": [],
   "source": []
  },
  {
   "cell_type": "code",
   "execution_count": null,
   "metadata": {},
   "outputs": [],
   "source": []
  },
  {
   "cell_type": "code",
   "execution_count": null,
   "metadata": {},
   "outputs": [],
   "source": []
  },
  {
   "cell_type": "code",
   "execution_count": null,
   "metadata": {},
   "outputs": [],
   "source": []
  }
 ],
 "metadata": {
  "kernelspec": {
   "display_name": "Python 3",
   "language": "python",
   "name": "python3"
  },
  "language_info": {
   "codemirror_mode": {
    "name": "ipython",
    "version": 3
   },
   "file_extension": ".py",
   "mimetype": "text/x-python",
   "name": "python",
   "nbconvert_exporter": "python",
   "pygments_lexer": "ipython3",
   "version": "3.8.5"
  }
 },
 "nbformat": 4,
 "nbformat_minor": 4
}
