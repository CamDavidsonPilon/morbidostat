{
 "cells": [
  {
   "cell_type": "code",
   "execution_count": 442,
   "metadata": {},
   "outputs": [
    {
     "name": "stdout",
     "output_type": "stream",
     "text": [
      "\u001b(B\u001b[m"
     ]
    }
   ],
   "source": [
    "!mv /Users/camerondavidson-pilon/Downloads/*.dump.gz .."
   ]
  },
  {
   "cell_type": "code",
   "execution_count": 443,
   "metadata": {},
   "outputs": [
    {
     "name": "stdout",
     "output_type": "stream",
     "text": [
      "\u001b(B\u001b[m"
     ]
    }
   ],
   "source": [
    "!gzip -f -d ../*.dump.gz"
   ]
  },
  {
   "cell_type": "code",
   "execution_count": 444,
   "metadata": {},
   "outputs": [
    {
     "name": "stdout",
     "output_type": "stream",
     "text": [
      "\u001b(B\u001b[m\u001b(B\u001b[m"
     ]
    }
   ],
   "source": [
    "!rm ../morbidostat.db\n",
    "!sqlite3 ../morbidostat.db < ../od_readings_raw.dump"
   ]
  },
  {
   "cell_type": "code",
   "execution_count": 457,
   "metadata": {},
   "outputs": [],
   "source": [
    "import pandas as pd\n",
    "import sqlite3\n",
    "con = sqlite3.connect(\"../morbidostat.db\")\n",
    "experiment = \"Trial-6-fc25fd2e44af4255bcb61d4f574f0087\"\n",
    "df = pd.read_sql_query(f'SELECT * from od_readings_raw WHERE experiment=\"{experiment}\" and morbidostat_unit=\"1\"', con)\n"
   ]
  },
  {
   "cell_type": "code",
   "execution_count": 458,
   "metadata": {},
   "outputs": [],
   "source": [
    "df['timestamp'] = pd.to_datetime(df['timestamp'])\n",
    "df = df.set_index(\"timestamp\")"
   ]
  },
  {
   "cell_type": "code",
   "execution_count": 459,
   "metadata": {},
   "outputs": [
    {
     "data": {
      "image/png": "[encoded data removed]",
      "text/plain": [
       "<Figure size 432x288 with 1 Axes>"
      ]
     },
     "metadata": {
      "needs_background": "light"
     },
     "output_type": "display_data"
    },
    {
     "data": {
      "image/png": "[encoded data removed]",
      "text/plain": [
       "<Figure size 432x288 with 1 Axes>"
      ]
     },
     "metadata": {
      "needs_background": "light"
     },
     "output_type": "display_data"
    }
   ],
   "source": [
    "for _, g in df.groupby(\"angle\")['od_reading_v']:\n",
    "    plt.figure()\n",
    "    g.plot()"
   ]
  },
  {
   "cell_type": "code",
   "execution_count": 460,
   "metadata": {},
   "outputs": [],
   "source": [
    "df.index = df.index.round('S')"
   ]
  },
  {
   "cell_type": "code",
   "execution_count": 461,
   "metadata": {},
   "outputs": [],
   "source": [
    "df_ = df.loc[df.groupby(level=0).size() == 2]"
   ]
  },
  {
   "cell_type": "code",
   "execution_count": null,
   "metadata": {},
   "outputs": [],
   "source": []
  },
  {
   "cell_type": "code",
   "execution_count": 462,
   "metadata": {},
   "outputs": [],
   "source": [
    "class ExtendedKalmanFilter:\n",
    "    \"\"\"\n",
    "    Based on the algorithm in\n",
    "    https://journals.plos.org/plosone/article?id=10.1371/journal.pone.0181923#pone.0181923.s007\n",
    "\n",
    "    The idea is that each sensor will evolve like:\n",
    "\n",
    "    OD_{i, t+1} = OD_{i, t} * r_t\n",
    "\n",
    "    for all i, t.\n",
    "\n",
    "    This model is pretty naive (different sensors will behave / saturate differently).\n",
    "\n",
    "    Example\n",
    "    ---------\n",
    "\n",
    "        initial_state = np.array([obs.iloc[0], 1.])\n",
    "        initial_covariance = np.eye(2)\n",
    "        process_noise_covariance = np.array([[0.00001, 0], [0, 1e-13]])\n",
    "        observation_noise_covariance = 0.2\n",
    "        ekf = ExtendedKalmanFilter(initial_state, initial_covariance, process_noise_covariance, observation_noise_covariance)\n",
    "\n",
    "        ekf.update(...)\n",
    "        ekf.state_\n",
    "\n",
    "    \"\"\"\n",
    "\n",
    "    def __init__(\n",
    "        self, initial_state, initial_covariance, process_noise_covariance, observation_noise_covariance,\n",
    "    ):\n",
    "        assert initial_state.shape[0] == initial_covariance.shape[0] == initial_covariance.shape[1]\n",
    "        assert process_noise_covariance.shape == initial_covariance.shape\n",
    "\n",
    "        self._process_noise_covariance = process_noise_covariance\n",
    "        self.observation_noise_covariance = observation_noise_covariance\n",
    "        self.state_ = initial_state\n",
    "        self.covariance_ = initial_covariance\n",
    "        self.dim = self.state_.shape[0]\n",
    "\n",
    "        self._counter = -1\n",
    "        self._original_process_noise_variance = self._process_noise_covariance[0, 0]\n",
    "\n",
    "    def predict(self):\n",
    "        return (\n",
    "            self._predict_state(self.state_, self.covariance_),\n",
    "            self._predict_covariance(self.state_, self.covariance_),\n",
    "        )\n",
    "\n",
    "    def update(self, observation):\n",
    "        # TODO: incorporate delta_time\n",
    "        state_prediction, covariance_prediction = self.predict()\n",
    "        residual_state = observation - state_prediction[:-1]\n",
    "        H = self._jacobian_observation()\n",
    "        residual_covariance = H @ covariance_prediction @ H.T + self.observation_noise_covariance\n",
    "        kalman_gain = covariance_prediction @ H.T @ np.linalg.inv(residual_covariance)\n",
    "        self.state_ = state_prediction + kalman_gain @ residual_state\n",
    "        self.covariance_ = (np.eye(self.dim) - kalman_gain @ H) @ covariance_prediction\n",
    "        return\n",
    "\n",
    "    def set_OD_variance_for_next_n_steps(self, new_variance, n):\n",
    "        d = self.dim\n",
    "        self._counter = n\n",
    "        self._process_noise_covariance[np.arange(d - 1), np.arange(d - 1)] = new_variance\n",
    "\n",
    "    def process_noise_covariance(self):\n",
    "        if self._counter == 0:\n",
    "            d = self.dim\n",
    "            self._process_noise_covariance[\n",
    "                np.arange(d - 1), np.arange(d - 1)\n",
    "            ] = self._original_process_noise_variance\n",
    "        self._counter -= 1\n",
    "        return self._process_noise_covariance\n",
    "\n",
    "    def _predict_state(self, state, covariance):\n",
    "        return np.array([v * state[-1] for v in state[:-1]] + [state[-1]])\n",
    "\n",
    "    def _predict_covariance(self, state, covariance):\n",
    "        return (\n",
    "            self._jacobian_process(state) @ covariance @ self._jacobian_process(state).T\n",
    "            + self.process_noise_covariance()\n",
    "        )\n",
    "\n",
    "    def _jacobian_process(self, state):\n",
    "        \"\"\"\n",
    "        The prediction process is\n",
    "        [\n",
    "            OD_{1, t+1} = OD_{1, t} * r_t\n",
    "            OD_{2, t+1} = OD_{2, t} * r_t\n",
    "            ...\n",
    "            r_{t+1} = r_t\n",
    "\n",
    "        ]\n",
    "\n",
    "        \"\"\"\n",
    "        d = self.dim\n",
    "        J = np.zeros((d, d))\n",
    "\n",
    "        rate = state[-1]\n",
    "        ODs = state[:-1]\n",
    "\n",
    "        J[np.arange(d - 1), np.arange(d - 1)] = rate\n",
    "        J[np.arange(d - 1), np.arange(1, d)] = ODs\n",
    "        J[-1, -1] = 1.0\n",
    "\n",
    "        return J\n",
    "\n",
    "    def _jacobian_observation(self):\n",
    "        \"\"\"\n",
    "        We only observe the ODs\n",
    "        \"\"\"\n",
    "        d = self.dim\n",
    "        return np.eye(d)[: (d - 1)]"
   ]
  },
  {
   "cell_type": "code",
   "execution_count": 463,
   "metadata": {},
   "outputs": [
    {
     "data": {
      "text/html": [
       "<div>\n",
       "<style scoped>\n",
       "    .dataframe tbody tr th:only-of-type {\n",
       "        vertical-align: middle;\n",
       "    }\n",
       "\n",
       "    .dataframe tbody tr th {\n",
       "        vertical-align: top;\n",
       "    }\n",
       "\n",
       "    .dataframe thead th {\n",
       "        text-align: right;\n",
       "    }\n",
       "</style>\n",
       "<table border=\"1\" class=\"dataframe\">\n",
       "  <thead>\n",
       "    <tr style=\"text-align: right;\">\n",
       "      <th></th>\n",
       "      <th>morbidostat_unit</th>\n",
       "      <th>od_reading_v</th>\n",
       "      <th>experiment</th>\n",
       "      <th>angle</th>\n",
       "    </tr>\n",
       "    <tr>\n",
       "      <th>timestamp</th>\n",
       "      <th></th>\n",
       "      <th></th>\n",
       "      <th></th>\n",
       "      <th></th>\n",
       "    </tr>\n",
       "  </thead>\n",
       "  <tbody>\n",
       "    <tr>\n",
       "      <th>2020-09-16 18:08:57+00:00</th>\n",
       "      <td>1</td>\n",
       "      <td>0.217007</td>\n",
       "      <td>Trial-6-fc25fd2e44af4255bcb61d4f574f0087</td>\n",
       "      <td>135</td>\n",
       "    </tr>\n",
       "    <tr>\n",
       "      <th>2020-09-16 18:08:57+00:00</th>\n",
       "      <td>1</td>\n",
       "      <td>0.043751</td>\n",
       "      <td>Trial-6-fc25fd2e44af4255bcb61d4f574f0087</td>\n",
       "      <td>90</td>\n",
       "    </tr>\n",
       "  </tbody>\n",
       "</table>\n",
       "</div>"
      ],
      "text/plain": [
       "                          morbidostat_unit  od_reading_v  \\\n",
       "timestamp                                                  \n",
       "2020-09-16 18:08:57+00:00                1      0.217007   \n",
       "2020-09-16 18:08:57+00:00                1      0.043751   \n",
       "\n",
       "                                                         experiment  angle  \n",
       "timestamp                                                                   \n",
       "2020-09-16 18:08:57+00:00  Trial-6-fc25fd2e44af4255bcb61d4f574f0087    135  \n",
       "2020-09-16 18:08:57+00:00  Trial-6-fc25fd2e44af4255bcb61d4f574f0087     90  "
      ]
     },
     "execution_count": 463,
     "metadata": {},
     "output_type": "execute_result"
    }
   ],
   "source": [
    "df_.head(2)"
   ]
  },
  {
   "cell_type": "code",
   "execution_count": 464,
   "metadata": {},
   "outputs": [],
   "source": [
    "OD_covariance = 1e-6 * np.ones((d-1, d-1))\n",
    "OD_covariance[np.arange(d-1), np.arange(d-1)] = 1e-3\n",
    "process_noise_covariance = np.block([\n",
    "    [OD_covariance,  1e-9 * np.ones((d-1, 1))],\n",
    "    [1e-9 * np.ones((1, d-1)),  1e-8  ]\n",
    "])\n"
   ]
  },
  {
   "cell_type": "code",
   "execution_count": 469,
   "metadata": {},
   "outputs": [],
   "source": [
    "initial_state = np.array([0.040001, 0.207007, 1.])\n",
    "d = initial_state.shape[0]\n",
    "\n",
    "# empirically picked constants\n",
    "initial_covariance = np.diag([1e-3] * (d - 1) + [1e-8])\n",
    "#process_noise_covariance = np.diag([1e-1] * (d - 1) + [1e-6])\n",
    "\n",
    "\n",
    "observation_noise_covariance = 1e-4 * np.ones(d-1) # this is a function of the ADS resolution at a gain\n",
    "ekf = ExtendedKalmanFilter(\n",
    "    initial_state, initial_covariance, process_noise_covariance, observation_noise_covariance,\n",
    ")"
   ]
  },
  {
   "cell_type": "code",
   "execution_count": 470,
   "metadata": {},
   "outputs": [],
   "source": [
    "results = []\n",
    "for _, g in df_.groupby(level=0):\n",
    "    ekf.update(g.sort_values(\"angle\")['od_reading_v'].values)\n",
    "    results.append(ekf.state_)\n",
    "results = pd.DataFrame(results, columns=['90', '135', 'rate'])"
   ]
  },
  {
   "cell_type": "code",
   "execution_count": 471,
   "metadata": {},
   "outputs": [
    {
     "data": {
      "text/plain": [
       "array([[8.55143204e-05, 8.55143204e-05, 2.80913966e-07],\n",
       "       [8.55143204e-05, 8.55143204e-05, 2.80913966e-07],\n",
       "       [2.80913966e-07, 2.80913966e-07, 9.97932396e-06]])"
      ]
     },
     "execution_count": 471,
     "metadata": {},
     "output_type": "execute_result"
    }
   ],
   "source": [
    "ekf.covariance_"
   ]
  },
  {
   "cell_type": "code",
   "execution_count": 472,
   "metadata": {},
   "outputs": [
    {
     "data": {
      "image/png": "[encoded data removed]",
      "text/plain": [
       "<Figure size 432x288 with 1 Axes>"
      ]
     },
     "metadata": {
      "needs_background": "light"
     },
     "output_type": "display_data"
    },
    {
     "data": {
      "image/png": "[encoded data removed]",
      "text/plain": [
       "<Figure size 432x288 with 1 Axes>"
      ]
     },
     "metadata": {
      "needs_background": "light"
     },
     "output_type": "display_data"
    },
    {
     "data": {
      "image/png": "[encoded data removed]",
      "text/plain": [
       "<Figure size 432x288 with 1 Axes>"
      ]
     },
     "metadata": {
      "needs_background": "light"
     },
     "output_type": "display_data"
    }
   ],
   "source": [
    "\n",
    "plt.figure()\n",
    "ax = results['135'].plot()\n",
    "plt.plot(df_.loc[df_['angle'] == 135]['od_reading_v'].values)\n",
    "\n",
    "plt.figure()\n",
    "\n",
    "ax = results['90'].plot()\n",
    "plt.plot(df_.loc[df_['angle'] == 90]['od_reading_v'].values)\n",
    "\n",
    "\n",
    "plt.figure()\n",
    "ax = (np.log(results['rate'])*60*60*0.2).plot()\n"
   ]
  },
  {
   "cell_type": "code",
   "execution_count": null,
   "metadata": {},
   "outputs": [],
   "source": []
  },
  {
   "cell_type": "code",
   "execution_count": null,
   "metadata": {},
   "outputs": [],
   "source": []
  },
  {
   "cell_type": "code",
   "execution_count": null,
   "metadata": {},
   "outputs": [],
   "source": []
  }
 ],
 "metadata": {
  "kernelspec": {
   "display_name": "Python 3",
   "language": "python",
   "name": "python3"
  },
  "language_info": {
   "codemirror_mode": {
    "name": "ipython",
    "version": 3
   },
   "file_extension": ".py",
   "mimetype": "text/x-python",
   "name": "python",
   "nbconvert_exporter": "python",
   "pygments_lexer": "ipython3",
   "version": "3.8.5"
  }
 },
 "nbformat": 4,
 "nbformat_minor": 4
}
