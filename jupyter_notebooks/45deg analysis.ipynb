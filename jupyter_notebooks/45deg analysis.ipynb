{
 "cells": [
  {
   "cell_type": "code",
   "execution_count": 13,
   "metadata": {},
   "outputs": [],
   "source": [
    "df = pd.read_csv(\"../data.csv\")"
   ]
  },
  {
   "cell_type": "code",
   "execution_count": 14,
   "metadata": {},
   "outputs": [],
   "source": [
    "df['timestamp'] = pd.to_datetime(df[\"timestamp\"])\n",
    "df = df.set_index('timestamp')"
   ]
  },
  {
   "cell_type": "code",
   "execution_count": 17,
   "metadata": {},
   "outputs": [
    {
     "data": {
      "text/plain": [
       "<AxesSubplot:xlabel='timestamp'>"
      ]
     },
     "execution_count": 17,
     "metadata": {},
     "output_type": "execute_result"
    },
    {
     "data": {
      "image/png": "[encoded data removed]",
      "text/plain": [
       "<Figure size 864x432 with 1 Axes>"
      ]
     },
     "metadata": {
      "needs_background": "light"
     },
     "output_type": "display_data"
    }
   ],
   "source": [
    "df['od_reading_v'].loc[\"2020-09-15-21\": \"2020-09-16-14\"].plot(figsize=(12,6))"
   ]
  },
  {
   "cell_type": "code",
   "execution_count": 12,
   "metadata": {},
   "outputs": [
    {
     "data": {
      "text/html": [
       "<div>\n",
       "<style scoped>\n",
       "    .dataframe tbody tr th:only-of-type {\n",
       "        vertical-align: middle;\n",
       "    }\n",
       "\n",
       "    .dataframe tbody tr th {\n",
       "        vertical-align: top;\n",
       "    }\n",
       "\n",
       "    .dataframe thead th {\n",
       "        text-align: right;\n",
       "    }\n",
       "</style>\n",
       "<table border=\"1\" class=\"dataframe\">\n",
       "  <thead>\n",
       "    <tr style=\"text-align: right;\">\n",
       "      <th></th>\n",
       "      <th>timestamp</th>\n",
       "      <th>morbidostat_unit</th>\n",
       "      <th>od_reading_v</th>\n",
       "      <th>experiment</th>\n",
       "      <th>angle</th>\n",
       "    </tr>\n",
       "  </thead>\n",
       "  <tbody>\n",
       "    <tr>\n",
       "      <th>0</th>\n",
       "      <td>2020-09-15T19:15:03.423Z</td>\n",
       "      <td>2</td>\n",
       "      <td>0.140004</td>\n",
       "      <td>Trial-5-e29b893b19c7464baf1a5f2ea47a7fea</td>\n",
       "      <td>45</td>\n",
       "    </tr>\n",
       "    <tr>\n",
       "      <th>1</th>\n",
       "      <td>2020-09-15T19:15:08.418Z</td>\n",
       "      <td>2</td>\n",
       "      <td>0.140004</td>\n",
       "      <td>Trial-5-e29b893b19c7464baf1a5f2ea47a7fea</td>\n",
       "      <td>45</td>\n",
       "    </tr>\n",
       "    <tr>\n",
       "      <th>2</th>\n",
       "      <td>2020-09-15T19:15:13.472Z</td>\n",
       "      <td>2</td>\n",
       "      <td>0.140692</td>\n",
       "      <td>Trial-5-e29b893b19c7464baf1a5f2ea47a7fea</td>\n",
       "      <td>45</td>\n",
       "    </tr>\n",
       "    <tr>\n",
       "      <th>3</th>\n",
       "      <td>2020-09-15T19:15:18.453Z</td>\n",
       "      <td>2</td>\n",
       "      <td>0.141504</td>\n",
       "      <td>Trial-5-e29b893b19c7464baf1a5f2ea47a7fea</td>\n",
       "      <td>45</td>\n",
       "    </tr>\n",
       "    <tr>\n",
       "      <th>4</th>\n",
       "      <td>2020-09-15T19:15:23.435Z</td>\n",
       "      <td>2</td>\n",
       "      <td>0.138442</td>\n",
       "      <td>Trial-5-e29b893b19c7464baf1a5f2ea47a7fea</td>\n",
       "      <td>45</td>\n",
       "    </tr>\n",
       "    <tr>\n",
       "      <th>...</th>\n",
       "      <td>...</td>\n",
       "      <td>...</td>\n",
       "      <td>...</td>\n",
       "      <td>...</td>\n",
       "      <td>...</td>\n",
       "    </tr>\n",
       "    <tr>\n",
       "      <th>14414</th>\n",
       "      <td>2020-09-16T15:33:13.232Z</td>\n",
       "      <td>2</td>\n",
       "      <td>0.148075</td>\n",
       "      <td>Trial-5-e29b893b19c7464baf1a5f2ea47a7fea</td>\n",
       "      <td>45</td>\n",
       "    </tr>\n",
       "    <tr>\n",
       "      <th>14415</th>\n",
       "      <td>2020-09-16T15:33:18.398Z</td>\n",
       "      <td>2</td>\n",
       "      <td>0.159864</td>\n",
       "      <td>Trial-5-e29b893b19c7464baf1a5f2ea47a7fea</td>\n",
       "      <td>45</td>\n",
       "    </tr>\n",
       "    <tr>\n",
       "      <th>14416</th>\n",
       "      <td>2020-09-16T15:33:23.236Z</td>\n",
       "      <td>2</td>\n",
       "      <td>0.148684</td>\n",
       "      <td>Trial-5-e29b893b19c7464baf1a5f2ea47a7fea</td>\n",
       "      <td>45</td>\n",
       "    </tr>\n",
       "    <tr>\n",
       "      <th>14417</th>\n",
       "      <td>2020-09-16T15:33:28.228Z</td>\n",
       "      <td>2</td>\n",
       "      <td>0.149192</td>\n",
       "      <td>Trial-5-e29b893b19c7464baf1a5f2ea47a7fea</td>\n",
       "      <td>45</td>\n",
       "    </tr>\n",
       "    <tr>\n",
       "      <th>14418</th>\n",
       "      <td>2020-09-16T15:33:33.245Z</td>\n",
       "      <td>2</td>\n",
       "      <td>0.146309</td>\n",
       "      <td>Trial-5-e29b893b19c7464baf1a5f2ea47a7fea</td>\n",
       "      <td>45</td>\n",
       "    </tr>\n",
       "  </tbody>\n",
       "</table>\n",
       "<p>14419 rows × 5 columns</p>\n",
       "</div>"
      ],
      "text/plain": [
       "                      timestamp  morbidostat_unit  od_reading_v  \\\n",
       "0      2020-09-15T19:15:03.423Z                 2      0.140004   \n",
       "1      2020-09-15T19:15:08.418Z                 2      0.140004   \n",
       "2      2020-09-15T19:15:13.472Z                 2      0.140692   \n",
       "3      2020-09-15T19:15:18.453Z                 2      0.141504   \n",
       "4      2020-09-15T19:15:23.435Z                 2      0.138442   \n",
       "...                         ...               ...           ...   \n",
       "14414  2020-09-16T15:33:13.232Z                 2      0.148075   \n",
       "14415  2020-09-16T15:33:18.398Z                 2      0.159864   \n",
       "14416  2020-09-16T15:33:23.236Z                 2      0.148684   \n",
       "14417  2020-09-16T15:33:28.228Z                 2      0.149192   \n",
       "14418  2020-09-16T15:33:33.245Z                 2      0.146309   \n",
       "\n",
       "                                     experiment  angle  \n",
       "0      Trial-5-e29b893b19c7464baf1a5f2ea47a7fea     45  \n",
       "1      Trial-5-e29b893b19c7464baf1a5f2ea47a7fea     45  \n",
       "2      Trial-5-e29b893b19c7464baf1a5f2ea47a7fea     45  \n",
       "3      Trial-5-e29b893b19c7464baf1a5f2ea47a7fea     45  \n",
       "4      Trial-5-e29b893b19c7464baf1a5f2ea47a7fea     45  \n",
       "...                                         ...    ...  \n",
       "14414  Trial-5-e29b893b19c7464baf1a5f2ea47a7fea     45  \n",
       "14415  Trial-5-e29b893b19c7464baf1a5f2ea47a7fea     45  \n",
       "14416  Trial-5-e29b893b19c7464baf1a5f2ea47a7fea     45  \n",
       "14417  Trial-5-e29b893b19c7464baf1a5f2ea47a7fea     45  \n",
       "14418  Trial-5-e29b893b19c7464baf1a5f2ea47a7fea     45  \n",
       "\n",
       "[14419 rows x 5 columns]"
      ]
     },
     "execution_count": 12,
     "metadata": {},
     "output_type": "execute_result"
    }
   ],
   "source": [
    "df"
   ]
  },
  {
   "cell_type": "code",
   "execution_count": null,
   "metadata": {},
   "outputs": [],
   "source": []
  }
 ],
 "metadata": {
  "kernelspec": {
   "display_name": "Python 3",
   "language": "python",
   "name": "python3"
  },
  "language_info": {
   "codemirror_mode": {
    "name": "ipython",
    "version": 3
   },
   "file_extension": ".py",
   "mimetype": "text/x-python",
   "name": "python",
   "nbconvert_exporter": "python",
   "pygments_lexer": "ipython3",
   "version": "3.8.5"
  }
 },
 "nbformat": 4,
 "nbformat_minor": 4
}
