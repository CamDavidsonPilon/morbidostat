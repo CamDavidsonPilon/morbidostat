{
 "cells": [
  {
   "cell_type": "code",
   "execution_count": null,
   "metadata": {},
   "outputs": [],
   "source": []
  },
  {
   "cell_type": "code",
   "execution_count": 1,
   "metadata": {},
   "outputs": [],
   "source": [
    "df = pd.read_csv(\"../unit3data.csv\")"
   ]
  },
  {
   "cell_type": "code",
   "execution_count": 9,
   "metadata": {},
   "outputs": [
    {
     "data": {
      "text/html": [
       "<div>\n",
       "<style scoped>\n",
       "    .dataframe tbody tr th:only-of-type {\n",
       "        vertical-align: middle;\n",
       "    }\n",
       "\n",
       "    .dataframe tbody tr th {\n",
       "        vertical-align: top;\n",
       "    }\n",
       "\n",
       "    .dataframe thead th {\n",
       "        text-align: right;\n",
       "    }\n",
       "</style>\n",
       "<table border=\"1\" class=\"dataframe\">\n",
       "  <thead>\n",
       "    <tr style=\"text-align: right;\">\n",
       "      <th></th>\n",
       "      <th>timestamp</th>\n",
       "      <th>morbidostat_unit</th>\n",
       "      <th>od_reading_v</th>\n",
       "      <th>experiment</th>\n",
       "      <th>angle</th>\n",
       "    </tr>\n",
       "  </thead>\n",
       "  <tbody>\n",
       "    <tr>\n",
       "      <th>0</th>\n",
       "      <td>2020-09-22T17:12:57.435Z</td>\n",
       "      <td>3</td>\n",
       "      <td>0.014360</td>\n",
       "      <td>Trial-7-76a6004d962741a1819c39098edd77b9</td>\n",
       "      <td>90</td>\n",
       "    </tr>\n",
       "    <tr>\n",
       "      <th>1</th>\n",
       "      <td>2020-09-22T17:12:57.466Z</td>\n",
       "      <td>3</td>\n",
       "      <td>0.182693</td>\n",
       "      <td>Trial-7-76a6004d962741a1819c39098edd77b9</td>\n",
       "      <td>135</td>\n",
       "    </tr>\n",
       "    <tr>\n",
       "      <th>2</th>\n",
       "      <td>2020-09-22T17:13:02.728Z</td>\n",
       "      <td>3</td>\n",
       "      <td>0.014336</td>\n",
       "      <td>Trial-7-76a6004d962741a1819c39098edd77b9</td>\n",
       "      <td>90</td>\n",
       "    </tr>\n",
       "    <tr>\n",
       "      <th>3</th>\n",
       "      <td>2020-09-22T17:13:02.764Z</td>\n",
       "      <td>3</td>\n",
       "      <td>0.182459</td>\n",
       "      <td>Trial-7-76a6004d962741a1819c39098edd77b9</td>\n",
       "      <td>135</td>\n",
       "    </tr>\n",
       "    <tr>\n",
       "      <th>4</th>\n",
       "      <td>2020-09-22T17:13:07.433Z</td>\n",
       "      <td>3</td>\n",
       "      <td>0.014360</td>\n",
       "      <td>Trial-7-76a6004d962741a1819c39098edd77b9</td>\n",
       "      <td>90</td>\n",
       "    </tr>\n",
       "    <tr>\n",
       "      <th>...</th>\n",
       "      <td>...</td>\n",
       "      <td>...</td>\n",
       "      <td>...</td>\n",
       "      <td>...</td>\n",
       "      <td>...</td>\n",
       "    </tr>\n",
       "    <tr>\n",
       "      <th>39419</th>\n",
       "      <td>2020-09-23T20:38:47.450Z</td>\n",
       "      <td>3</td>\n",
       "      <td>0.451108</td>\n",
       "      <td>Trial-7-76a6004d962741a1819c39098edd77b9</td>\n",
       "      <td>135</td>\n",
       "    </tr>\n",
       "    <tr>\n",
       "      <th>39420</th>\n",
       "      <td>2020-09-23T20:38:52.410Z</td>\n",
       "      <td>3</td>\n",
       "      <td>0.037157</td>\n",
       "      <td>Trial-7-76a6004d962741a1819c39098edd77b9</td>\n",
       "      <td>90</td>\n",
       "    </tr>\n",
       "    <tr>\n",
       "      <th>39421</th>\n",
       "      <td>2020-09-23T20:38:52.447Z</td>\n",
       "      <td>3</td>\n",
       "      <td>0.450232</td>\n",
       "      <td>Trial-7-76a6004d962741a1819c39098edd77b9</td>\n",
       "      <td>135</td>\n",
       "    </tr>\n",
       "    <tr>\n",
       "      <th>39422</th>\n",
       "      <td>2020-09-23T20:38:57.523Z</td>\n",
       "      <td>3</td>\n",
       "      <td>0.037282</td>\n",
       "      <td>Trial-7-76a6004d962741a1819c39098edd77b9</td>\n",
       "      <td>90</td>\n",
       "    </tr>\n",
       "    <tr>\n",
       "      <th>39423</th>\n",
       "      <td>2020-09-23T20:38:57.569Z</td>\n",
       "      <td>3</td>\n",
       "      <td>0.451201</td>\n",
       "      <td>Trial-7-76a6004d962741a1819c39098edd77b9</td>\n",
       "      <td>135</td>\n",
       "    </tr>\n",
       "  </tbody>\n",
       "</table>\n",
       "<p>39424 rows × 5 columns</p>\n",
       "</div>"
      ],
      "text/plain": [
       "                      timestamp  morbidostat_unit  od_reading_v  \\\n",
       "0      2020-09-22T17:12:57.435Z                 3      0.014360   \n",
       "1      2020-09-22T17:12:57.466Z                 3      0.182693   \n",
       "2      2020-09-22T17:13:02.728Z                 3      0.014336   \n",
       "3      2020-09-22T17:13:02.764Z                 3      0.182459   \n",
       "4      2020-09-22T17:13:07.433Z                 3      0.014360   \n",
       "...                         ...               ...           ...   \n",
       "39419  2020-09-23T20:38:47.450Z                 3      0.451108   \n",
       "39420  2020-09-23T20:38:52.410Z                 3      0.037157   \n",
       "39421  2020-09-23T20:38:52.447Z                 3      0.450232   \n",
       "39422  2020-09-23T20:38:57.523Z                 3      0.037282   \n",
       "39423  2020-09-23T20:38:57.569Z                 3      0.451201   \n",
       "\n",
       "                                     experiment  angle  \n",
       "0      Trial-7-76a6004d962741a1819c39098edd77b9     90  \n",
       "1      Trial-7-76a6004d962741a1819c39098edd77b9    135  \n",
       "2      Trial-7-76a6004d962741a1819c39098edd77b9     90  \n",
       "3      Trial-7-76a6004d962741a1819c39098edd77b9    135  \n",
       "4      Trial-7-76a6004d962741a1819c39098edd77b9     90  \n",
       "...                                         ...    ...  \n",
       "39419  Trial-7-76a6004d962741a1819c39098edd77b9    135  \n",
       "39420  Trial-7-76a6004d962741a1819c39098edd77b9     90  \n",
       "39421  Trial-7-76a6004d962741a1819c39098edd77b9    135  \n",
       "39422  Trial-7-76a6004d962741a1819c39098edd77b9     90  \n",
       "39423  Trial-7-76a6004d962741a1819c39098edd77b9    135  \n",
       "\n",
       "[39424 rows x 5 columns]"
      ]
     },
     "execution_count": 9,
     "metadata": {},
     "output_type": "execute_result"
    }
   ],
   "source": [
    "df"
   ]
  },
  {
   "cell_type": "code",
   "execution_count": 10,
   "metadata": {},
   "outputs": [],
   "source": [
    "paired_data = []\n",
    "\n",
    "for i, (_, row) in enumerate(df.iterrows()):\n",
    "    if i % 2 == 0:\n",
    "        to_append = {'timestamp': None, '135': None, '90': None}\n",
    "        to_append['timestamp'] = row['timestamp']\n",
    "        to_append['90'] = row['od_reading_v']\n",
    "        \n",
    "    else:\n",
    "        to_append['135'] = row['od_reading_v']\n",
    "        paired_data.append(to_append)\n",
    "    "
   ]
  },
  {
   "cell_type": "code",
   "execution_count": 15,
   "metadata": {},
   "outputs": [
    {
     "data": {
      "text/plain": [
       "(39424, 5)"
      ]
     },
     "execution_count": 15,
     "metadata": {},
     "output_type": "execute_result"
    }
   ],
   "source": [
    "df.shape"
   ]
  },
  {
   "cell_type": "code",
   "execution_count": 36,
   "metadata": {},
   "outputs": [],
   "source": [
    "_135 = df.sort_values([\"angle\", \"timestamp\"]).iloc[int(39424/2):].reset_index(drop=True)\n",
    "_135 = _135.rename(columns={'od_reading_v': '135'})\n",
    "_135 = _135.rename(columns={'timestamp': 'ts'})\n",
    "\n",
    "\n",
    "_90 = df.sort_values([\"angle\", \"timestamp\"]).iloc[:int(39424/2)].reset_index(drop=True)\n",
    "_90 = _90.rename(columns={'od_reading_v': '90'})\n"
   ]
  },
  {
   "cell_type": "code",
   "execution_count": 43,
   "metadata": {},
   "outputs": [],
   "source": [
    "df_ = pd.concat((_135, _90), axis=1)"
   ]
  },
  {
   "cell_type": "code",
   "execution_count": 44,
   "metadata": {},
   "outputs": [],
   "source": [
    "df_['ts'] = pd.to_datetime(df_['ts'])\n",
    "df__ = df_.set_index(\"ts\")[['135', '90']]"
   ]
  },
  {
   "cell_type": "code",
   "execution_count": 46,
   "metadata": {},
   "outputs": [
    {
     "data": {
      "text/plain": [
       "<AxesSubplot:xlabel='ts'>"
      ]
     },
     "execution_count": 46,
     "metadata": {},
     "output_type": "execute_result"
    },
    {
     "data": {
      "image/png": "[encoded data removed]",
      "text/plain": [
       "<Figure size 432x288 with 1 Axes>"
      ]
     },
     "metadata": {
      "needs_background": "light"
     },
     "output_type": "display_data"
    }
   ],
   "source": [
    "df__['135'].plot()"
   ]
  },
  {
   "cell_type": "code",
   "execution_count": null,
   "metadata": {},
   "outputs": [],
   "source": []
  },
  {
   "cell_type": "code",
   "execution_count": 241,
   "metadata": {},
   "outputs": [],
   "source": [
    "class ExtendedKalmanFilter:\n",
    "    \"\"\"\n",
    "    Based on the algorithm in\n",
    "    https://journals.plos.org/plosone/article?id=10.1371/journal.pone.0181923#pone.0181923.s007\n",
    "\n",
    "    The idea is that each sensor will evolve like:\n",
    "\n",
    "    OD_{i, t+1} = OD_{i, t} * r_t\n",
    "\n",
    "    for all i, t.\n",
    "\n",
    "    This model is pretty naive (different sensors will behave / saturate differently).\n",
    "\n",
    "    Example\n",
    "    ---------\n",
    "\n",
    "        initial_state = np.array([obs.iloc[0], 1.])\n",
    "        initial_covariance = np.eye(2)\n",
    "        process_noise_covariance = np.array([[0.00001, 0], [0, 1e-13]])\n",
    "        observation_noise_covariance = 0.2\n",
    "        ekf = ExtendedKalmanFilter(initial_state, initial_covariance, process_noise_covariance, observation_noise_covariance)\n",
    "\n",
    "        ekf.update(...)\n",
    "        ekf.state_\n",
    "\n",
    "    \"\"\"\n",
    "\n",
    "    def __init__(self, initial_state, initial_covariance, process_noise_covariance, observation_noise_covariance):\n",
    "        assert initial_state.shape[0] == initial_covariance.shape[0] == initial_covariance.shape[1]\n",
    "        assert process_noise_covariance.shape == initial_covariance.shape\n",
    "        #assert self._is_positive_definite(process_noise_covariance)\n",
    "        #assert self._is_positive_definite(initial_covariance)\n",
    "        #assert self._is_positive_definite(observation_noise_covariance)\n",
    "\n",
    "        self._process_noise_covariance = process_noise_covariance\n",
    "        self.observation_noise_covariance = observation_noise_covariance\n",
    "        self.state_ = initial_state\n",
    "        self.covariance_ = initial_covariance\n",
    "        self.dim = self.state_.shape[0]\n",
    "\n",
    "        self._OD_scale_counter = -1\n",
    "        self._rate_scale_counter = -1\n",
    "\n",
    "        self._original_process_noise_variance = np.diag(self._process_noise_covariance)[: (self.dim - 1)].copy()\n",
    "        self._original_rate_noise_variance = self._process_noise_covariance[-1, -1]\n",
    "\n",
    "\n",
    "    def predict(self):\n",
    "        return (self._predict_state(self.state_, self.covariance_), self._predict_covariance(self.state_, self.covariance_))\n",
    "\n",
    "    def update(self, observation):\n",
    "        # TODO: incorporate delta_time\n",
    "        assert observation.shape[0] + 1 == self.state_.shape[0]\n",
    "        state_prediction, covariance_prediction = self.predict()\n",
    "        residual_state = observation - state_prediction[:-1]\n",
    "        H = self._jacobian_observation()\n",
    "        residual_covariance = H @ covariance_prediction @ H.T + self.observation_noise_covariance\n",
    "        kalman_gain = covariance_prediction @ H.T @ np.linalg.inv(residual_covariance)\n",
    "        self.state_ = state_prediction + kalman_gain @ residual_state\n",
    "        self.covariance_ = (np.eye(self.dim) - kalman_gain @ H) @ covariance_prediction\n",
    "        return\n",
    "\n",
    "    def scale_OD_variance_for_next_n_steps(self, factor, n):\n",
    "        d = self.dim\n",
    "        self._OD_scale_counter = n\n",
    "        self._process_noise_covariance[np.arange(d - 1), np.arange(d - 1)] = factor * self._original_process_noise_variance\n",
    "\n",
    "    def scale_rate_variance_for_next_n_steps(self, factor, n):\n",
    "        d = self.dim\n",
    "        self._rate_scale_counter = n\n",
    "        self._process_noise_covariance[-1, -1] = factor * self._original_rate_noise_variance\n",
    "        \n",
    "        \n",
    "    def process_noise_covariance(self):\n",
    "        if self._OD_scale_counter == 0:\n",
    "            d = self.dim\n",
    "            self._process_noise_covariance[np.arange(d - 1), np.arange(d - 1)] = self._original_process_noise_variance\n",
    "        self._OD_scale_counter -= 1\n",
    "        \n",
    "        if self._rate_scale_counter == 0:\n",
    "            self._process_noise_covariance[-1, -1] = self._original_rate_noise_variance\n",
    "        self._rate_scale_counter -= 1\n",
    "        return self._process_noise_covariance\n",
    "\n",
    "    def _predict_state(self, state, covariance):\n",
    "        return np.array([v * state[-1] for v in state[:-1]] + [state[-1]])\n",
    "\n",
    "    def _predict_covariance(self, state, covariance):\n",
    "        return self._jacobian_process(state) @ covariance @ self._jacobian_process(state).T + self.process_noise_covariance()\n",
    "\n",
    "    def _jacobian_process(self, state):\n",
    "        \"\"\"\n",
    "        The prediction process is\n",
    "        [\n",
    "            OD_{1, t+1} = OD_{1, t} * r_t\n",
    "            OD_{2, t+1} = OD_{2, t} * r_t\n",
    "            ...\n",
    "            r_{t+1} = r_t\n",
    "\n",
    "        ]\n",
    "\n",
    "        \"\"\"\n",
    "        d = self.dim\n",
    "        J = np.zeros((d, d))\n",
    "\n",
    "        rate = state[-1]\n",
    "        ODs = state[:-1]\n",
    "\n",
    "        J[np.arange(d - 1), np.arange(d - 1)] = rate\n",
    "        J[np.arange(d - 1), np.arange(1, d)] = ODs\n",
    "        J[-1, -1] = 1.0\n",
    "\n",
    "        return J\n",
    "\n",
    "    def _jacobian_observation(self):\n",
    "        \"\"\"\n",
    "        We only observe the ODs\n",
    "        \"\"\"\n",
    "        d = self.dim\n",
    "        return np.eye(d)[: (d - 1)]\n",
    "\n",
    "    @staticmethod\n",
    "    def _is_positive_definite(A):\n",
    "        if np.array_equal(A, A.T):\n",
    "            try:\n",
    "                return True\n",
    "            except np.linalg.LinAlgError:\n",
    "                return False\n",
    "        else:\n",
    "            return False"
   ]
  },
  {
   "cell_type": "code",
   "execution_count": null,
   "metadata": {},
   "outputs": [],
   "source": []
  },
  {
   "cell_type": "code",
   "execution_count": 265,
   "metadata": {},
   "outputs": [
    {
     "name": "stdout",
     "output_type": "stream",
     "text": [
      "[[5.01163826e-05 6.55047826e-05 3.06641774e-08]\n",
      " [6.55047826e-05 2.28539784e-04 1.07420941e-07]\n",
      " [3.06641774e-08 1.07420941e-07 1.74477377e-08]]\n"
     ]
    }
   ],
   "source": [
    "initial_state = np.array([0.01436, 0.182693, 1.0000])\n",
    "d = initial_state.shape[0]\n",
    "\n",
    "# empirically picked constants\n",
    "initial_covariance = np.block([\n",
    "    [1e-4 * np.ones((d-1, d-1)), 1e-7 * np.ones((d-1, 1))], [1e-7 * np.ones((1, d-1)), 1e-8]\n",
    "])\n",
    "\n",
    "OD_process_covariance = 1e-10 * np.ones((d-1, d-1))\n",
    "OD_process_covariance[0, 0] = 1e-7\n",
    "OD_process_covariance[1, 1] = 1e-5\n",
    "rate_process_variance = (\n",
    "    2e-12\n",
    ")  # think of this as a weighting between how much do I trust the model (lower value => rate_t = rate_{t-1}) vs how much do I trust the observations\n",
    "process_noise_covariance = np.block(\n",
    "    [[OD_process_covariance, 1e-12 * np.ones((d - 1, 1))], [1e-12 * np.ones((1, d - 1)), rate_process_variance]]\n",
    ")\n",
    "\n",
    "observation_noise_covariance = np.array([[1e-3, 0], [0, 1e-2]]) # this is a function of the ADS resolution at a gain\n",
    "ekf = ExtendedKalmanFilter(\n",
    "    initial_state, initial_covariance, process_noise_covariance, observation_noise_covariance,\n",
    ")\n",
    "\n",
    "\n",
    "\n",
    "\n",
    "results = []\n",
    "for i, (_, g) in enumerate(df__.iterrows()):\n",
    "        \n",
    "    ekf.update(np.array([g['90'], g['135']]))\n",
    "    results.append(ekf.state_)\n",
    "\n",
    "untampered_results = pd.DataFrame(results, columns=['90', '135',  'rate'], index=df__.index)\n",
    "\n",
    "\n",
    "\n",
    "\n",
    "ekf = ExtendedKalmanFilter(\n",
    "    initial_state, initial_covariance, process_noise_covariance, observation_noise_covariance,\n",
    ")\n",
    "\n",
    "\n",
    "results = []\n",
    "for i, (_, g) in enumerate(df__.iterrows()):\n",
    "    if i == 8000:\n",
    "        # oops I restarted\n",
    "        initial_state = np.array([g['90'], g['135'], ekf.state_[2]])\n",
    "        print(ekf.covariance_)\n",
    "        ekf = ExtendedKalmanFilter(\n",
    "            ekf.state_, ekf.covariance_, process_noise_covariance, observation_noise_covariance,\n",
    "        )\n",
    "\n",
    "    if i == 17000:\n",
    "        # oops I restarted\n",
    "        initial_state = np.array([g['90'], g['135'], ekf.state_[2]])\n",
    "        ekf = ExtendedKalmanFilter(\n",
    "            initial_state, initial_covariance, process_noise_covariance, observation_noise_covariance,\n",
    "        )\n",
    "\n",
    "    if i == 8500:\n",
    "        # oops I restarted\n",
    "        initial_state = np.array([g['90'], g['135'], ekf.state_[2]])\n",
    "        ekf = ExtendedKalmanFilter(\n",
    "            initial_state, initial_covariance, process_noise_covariance, observation_noise_covariance,\n",
    "        )        \n",
    "        \n",
    "    ekf.update(np.array([g['90'], g['135']]))\n",
    "    results.append(ekf.state_)\n",
    "\n",
    "        \n",
    "tampered_results = pd.DataFrame(results, columns=['90', '135',  'rate'], index=df__.index)\n"
   ]
  },
  {
   "cell_type": "code",
   "execution_count": 266,
   "metadata": {},
   "outputs": [
    {
     "data": {
      "text/plain": [
       "<AxesSubplot:xlabel='ts'>"
      ]
     },
     "execution_count": 266,
     "metadata": {},
     "output_type": "execute_result"
    },
    {
     "data": {
      "image/png": "[encoded data removed]",
      "text/plain": [
       "<Figure size 864x1152 with 3 Axes>"
      ]
     },
     "metadata": {
      "needs_background": "light"
     },
     "output_type": "display_data"
    }
   ],
   "source": [
    "f, axes = plt.subplots(3, 1, figsize=(12, 16))\n",
    "\n",
    "\n",
    "tampered_results['90'].plot(label=\"filtered\", ax=axes[0])\n",
    "df__['90'].plot(ax=axes[0], alpha=0.75, label=\"actual\")\n",
    "axes[0].legend()\n",
    "\n",
    "\n",
    "tampered_results['135'].plot(label=\"filtered\", ax=axes[1])\n",
    "df__['135'].plot(ax=axes[1], alpha=0.75, label=\"actual\")\n",
    "axes[1].legend()\n",
    "\n",
    "(np.log(tampered_results['rate']) *  60 * 60 * 0.2).plot(label=\"rate\", ax=axes[2], x_compat=True)\n",
    "(np.log(untampered_results['rate']) *  60 * 60 * 0.2).plot(label=\"rate\", ax=axes[2], x_compat=True)\n",
    "\n"
   ]
  },
  {
   "cell_type": "code",
   "execution_count": null,
   "metadata": {},
   "outputs": [],
   "source": []
  },
  {
   "cell_type": "code",
   "execution_count": null,
   "metadata": {},
   "outputs": [],
   "source": []
  },
  {
   "cell_type": "code",
   "execution_count": null,
   "metadata": {},
   "outputs": [],
   "source": []
  }
 ],
 "metadata": {
  "kernelspec": {
   "display_name": "Python 3",
   "language": "python",
   "name": "python3"
  },
  "language_info": {
   "codemirror_mode": {
    "name": "ipython",
    "version": 3
   },
   "file_extension": ".py",
   "mimetype": "text/x-python",
   "name": "python",
   "nbconvert_exporter": "python",
   "pygments_lexer": "ipython3",
   "version": "3.8.5"
  }
 },
 "nbformat": 4,
 "nbformat_minor": 4
}
